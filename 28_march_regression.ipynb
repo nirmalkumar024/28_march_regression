{
 "cells": [
  {
   "cell_type": "markdown",
   "id": "a579a5a9-00b7-42ec-acf4-ef34908e1812",
   "metadata": {},
   "source": [
    "Q1. What is Ridge Regression, and how does it differ from ordinary least squares regression?"
   ]
  },
  {
   "cell_type": "markdown",
   "id": "1a37977b-bf8a-4e55-8a5a-bfdcf02e836d",
   "metadata": {},
   "source": [
    "Ridge regression is process of determine the cost function of the data set,it is use when we have small data set and in which there are not complex \n",
    "data set it different to other like in this function we have to not get zero point at last, in this model we have get easily minimul point.and OLS is the process to find the best fit line of linear or multiple regression model."
   ]
  },
  {
   "cell_type": "markdown",
   "id": "13a4c3c9-abd6-4a42-b86b-9dcd2f26179d",
   "metadata": {},
   "source": [
    "Q2. What are the assumptions of Ridge Regression?"
   ]
  },
  {
   "cell_type": "markdown",
   "id": "e2e92ac1-a990-454e-8a04-0750b9f1ea77",
   "metadata": {},
   "source": [
    "The assumptions of ridge regression are the same as that of linear regression: linearity, constant variance, and independence. However, as ridge regression does not provide confidence limits, the distribution of errors to be normal need not be assumed."
   ]
  },
  {
   "cell_type": "markdown",
   "id": "bf293d80-7b4e-4ae6-9958-927691c4ed2c",
   "metadata": {},
   "source": [
    "3.How do you select the value of the tuning parameter (lambda) in Ridge Regression?"
   ]
  },
  {
   "cell_type": "markdown",
   "id": "43b24574-3357-49d6-8cb3-225150a118a1",
   "metadata": {},
   "source": [
    "We can automate this task of finding the optimal lambda value using the cv. glmnet() function. This is performed using the lines of code below. The optimal lambda value comes out to be 0.001 and will be used to build the ridge regression model."
   ]
  },
  {
   "cell_type": "markdown",
   "id": "8b23b3fe-bb3f-4912-a136-96f435a4ef52",
   "metadata": {},
   "source": [
    "4.Can Ridge Regression be used for feature selection? If yes, how?\n"
   ]
  },
  {
   "cell_type": "markdown",
   "id": "a12660f5-acd8-48e8-a69c-59e3e18b4f5e",
   "metadata": {},
   "source": [
    "We mainly find that overfitting is where the size of data is very large and ridge regression works by penalizing the coefficient of features and it also minimizes the errors in prediction. Talking about the other methods of feature importance they directly nullify the effect of less competent features."
   ]
  },
  {
   "cell_type": "markdown",
   "id": "70dc646d-1e38-4451-8b39-19b13de6fc3e",
   "metadata": {},
   "source": [
    "5.How does the Ridge Regression model perform in the presence of multicollinearity?\n"
   ]
  },
  {
   "cell_type": "markdown",
   "id": "46162c0c-0a0f-41b3-a6f7-776fd8292001",
   "metadata": {},
   "source": [
    "Multicollinearity happens when predictor variables exhibit a correlation among themselves. Ridge regression aims at reducing the standard error by adding some bias in the estimates of the regression. The reduction of the standard error in regression estimates significantly increases the reliability of the estimates."
   ]
  },
  {
   "cell_type": "markdown",
   "id": "187834fa-a37a-4def-83a9-1914add5c7bd",
   "metadata": {},
   "source": [
    "6.Can Ridge Regression handle both categorical and continuous independent variables?\n"
   ]
  },
  {
   "cell_type": "markdown",
   "id": "e13da482-4791-46f4-bcbe-5b23d24f66be",
   "metadata": {},
   "source": [
    "it can be shown that the ridge regression solution is achieved by adding rows of data to the original data matrix. These rows are constructed using 0 for the dependent variables and the square root of k or zero for the independent variables. One extra row is added for each independent variable."
   ]
  },
  {
   "cell_type": "markdown",
   "id": "96b2367f-944f-4a66-a5ea-510be8f8d701",
   "metadata": {},
   "source": [
    "7.How do you interpret the coefficients of Ridge Regression?\n"
   ]
  },
  {
   "cell_type": "markdown",
   "id": "ca11c817-2e96-4801-8da7-e3e06588ad5e",
   "metadata": {},
   "source": [
    "In ridge regression we have number of coefficients by the data and we have calculate it throw the equation and lastly find our milimum point from the soln. it become zero when the error is negligeble."
   ]
  },
  {
   "cell_type": "markdown",
   "id": "4e89514a-968c-47f9-9d10-2d11f21cec69",
   "metadata": {},
   "source": [
    "8.Can Ridge Regression be used for time-series data analysis? If yes, how?"
   ]
  },
  {
   "cell_type": "markdown",
   "id": "6d541170-1011-4991-9226-9a908185b91e",
   "metadata": {},
   "source": [
    "The ridge regression technique can be used to predict time-series,because Ridge regression (RR) solve the multicollinearity problem also so we use it,and  linear regression we have only two factor(coefficient).independent or dependent ,but in multicollinearity there have more than 2 coefficients are present enitially."
   ]
  }
 ],
 "metadata": {
  "kernelspec": {
   "display_name": "Python 3 (ipykernel)",
   "language": "python",
   "name": "python3"
  },
  "language_info": {
   "codemirror_mode": {
    "name": "ipython",
    "version": 3
   },
   "file_extension": ".py",
   "mimetype": "text/x-python",
   "name": "python",
   "nbconvert_exporter": "python",
   "pygments_lexer": "ipython3",
   "version": "3.10.8"
  }
 },
 "nbformat": 4,
 "nbformat_minor": 5
}
